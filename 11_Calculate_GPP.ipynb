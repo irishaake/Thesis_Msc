{
 "cells": [
  {
   "cell_type": "markdown",
   "id": "7c548cd8",
   "metadata": {},
   "source": [
    "## Calculate GPP from NIR and NDVI"
   ]
  },
  {
   "cell_type": "code",
   "execution_count": null,
   "id": "770b4f10",
   "metadata": {},
   "outputs": [],
   "source": [
    "# calculate MONTHLY GPP values from NIR and NDVI\n",
    "# substract 0.08 from NDVI\n",
    "# GPP = NIR * NDVI"
   ]
  }
 ],
 "metadata": {
  "language_info": {
   "name": "python"
  }
 },
 "nbformat": 4,
 "nbformat_minor": 5
}
