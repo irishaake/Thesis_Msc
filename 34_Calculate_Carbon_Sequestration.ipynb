{
 "cells": [
  {
   "cell_type": "markdown",
   "id": "2b3fc3c1",
   "metadata": {},
   "source": [
    "## Calculate Carbon Sequestration"
   ]
  },
  {
   "cell_type": "markdown",
   "id": "d7efa63c",
   "metadata": {},
   "source": [
    "Calculate carbon sequestration (carbon avalilable for growth) from GPP (total carbon fixed by plants)"
   ]
  },
  {
   "cell_type": "code",
   "execution_count": null,
   "id": "9bd2bc84",
   "metadata": {},
   "outputs": [],
   "source": []
  }
 ],
 "metadata": {
  "language_info": {
   "name": "python"
  }
 },
 "nbformat": 4,
 "nbformat_minor": 5
}
