{
 "cells": [
  {
   "cell_type": "markdown",
   "metadata": {},
   "source": [
    "## Process GPP"
   ]
  },
  {
   "cell_type": "code",
   "execution_count": null,
   "metadata": {},
   "outputs": [],
   "source": [
    "# calculate monthly means for Vodca GPP -> SAME UNIT AS CALCULATED? WHAT IS THE UNIT?\n",
    "# calculate monthly spatial means for calculated and vodca gpp"
   ]
  },
  {
   "cell_type": "code",
   "execution_count": null,
   "metadata": {},
   "outputs": [],
   "source": [
    "# VODCA2 GPP: 8-day means of daily GPP in g C m-2 d-1\n",
    "# GPP nir: "
   ]
  },
  {
   "cell_type": "code",
   "execution_count": null,
   "metadata": {},
   "outputs": [],
   "source": [
    "# should i calculate monthly means of daily GPP? because I resampled the pixels -> sums do not make sense anymore"
   ]
  }
 ],
 "metadata": {
  "language_info": {
   "name": "python"
  }
 },
 "nbformat": 4,
 "nbformat_minor": 2
}
