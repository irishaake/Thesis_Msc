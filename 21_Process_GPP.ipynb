{
 "cells": [
  {
   "cell_type": "markdown",
   "metadata": {},
   "source": [
    "## Process GPP"
   ]
  },
  {
   "cell_type": "code",
   "execution_count": null,
   "metadata": {},
   "outputs": [],
   "source": [
    "# calculate monthly and yearly means for Vodca GPP -> SAME UNIT AS CALCULATED? WHAT IS THE UNIT?\n",
    "# calculate monthly and yearly spatial means for calculated and vodca gpp"
   ]
  },
  {
   "cell_type": "code",
   "execution_count": null,
   "metadata": {},
   "outputs": [],
   "source": [
    "# VODCA2 GPP: 8-day means of daily GPP in g C m-2 d-1\n",
    "# GPP nir: "
   ]
  }
 ],
 "metadata": {
  "language_info": {
   "name": "python"
  }
 },
 "nbformat": 4,
 "nbformat_minor": 2
}
