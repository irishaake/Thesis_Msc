{
 "cells": [
  {
   "cell_type": "markdown",
   "id": "c4fc0e7c",
   "metadata": {},
   "source": [
    "## Calculate GPP from NIRv"
   ]
  },
  {
   "cell_type": "code",
   "execution_count": null,
   "id": "663a4360",
   "metadata": {},
   "outputs": [],
   "source": []
  },
  {
   "cell_type": "code",
   "execution_count": null,
   "id": "efcc88a3",
   "metadata": {},
   "outputs": [],
   "source": []
  }
 ],
 "metadata": {
  "language_info": {
   "name": "python"
  }
 },
 "nbformat": 4,
 "nbformat_minor": 5
}
