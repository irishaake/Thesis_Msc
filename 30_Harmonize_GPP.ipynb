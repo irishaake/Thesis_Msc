{
 "cells": [
  {
   "cell_type": "markdown",
   "id": "c06a0435",
   "metadata": {},
   "source": [
    "## Harmonize GPP"
   ]
  },
  {
   "cell_type": "code",
   "execution_count": null,
   "id": "1e1d5c09",
   "metadata": {},
   "outputs": [],
   "source": [
    "# harmonize calculated gpp from avhrr and modis data"
   ]
  }
 ],
 "metadata": {
  "language_info": {
   "name": "python"
  }
 },
 "nbformat": 4,
 "nbformat_minor": 5
}
